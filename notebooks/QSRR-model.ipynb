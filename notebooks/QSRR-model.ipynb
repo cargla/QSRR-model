{
 "cells": [
  {
   "cell_type": "markdown",
   "id": "3feee040-f099-4a9a-be60-7a5d9d68f274",
   "metadata": {},
   "source": [
    "# QSRR Model "
   ]
  },
  {
   "cell_type": "code",
   "execution_count": 1,
   "id": "dd74aa6b-09ab-456f-b233-6fb0da3f06bd",
   "metadata": {},
   "outputs": [],
   "source": [
    "import numpy as np\n",
    "import pandas as pd\n",
    "import matplotlib.pyplot as plt\n",
    "from rdkit import Chem\n",
    "from rdkit.Chem import Descriptors, AllChem\n",
    "from rdkit.ML.Descriptors import MoleculeDescriptors\n",
    "from sklearn.model_selection import train_test_split, cross_val_score, KFold\n",
    "from sklearn.feature_selection import SelectKBest, f_regression\n",
    "from sklearn.linear_model import LinearRegression, Ridge\n",
    "from sklearn.cross_decomposition import PLSRegression\n",
    "from sklearn.ensemble import RandomForestRegressor\n",
    "from sklearn.preprocessing import StandardScaler\n",
    "from sklearn.metrics import mean_absolute_error, r2_score\n",
    "import warnings\n",
    "warnings.filterwarnings(\"ignore\")"
   ]
  },
  {
   "cell_type": "code",
   "execution_count": 2,
   "id": "c1aaf554-96d0-403c-804c-79b576c45791",
   "metadata": {},
   "outputs": [],
   "source": [
    "# Descriptors imported from RDKit (n=208)\n",
    "all_descriptor_names = [desc[0] for desc in Descriptors._descList]   \n",
    "calc = MoleculeDescriptors.MolecularDescriptorCalculator(all_descriptor_names)\n",
    "\n",
    "# Functions that calculate descriptors from SMILES\n",
    "def compute_descriptors(smiles):\n",
    "    mol = Chem.MolFromSmiles(smiles)\n",
    "    if mol is None:\n",
    "        return [np.nan] * len(all_descriptor_names)\n",
    "    return calc.CalcDescriptors(mol)\n",
    "\n",
    "# Check the validity of the SMILES\n",
    "def is_valid_molecule(smiles):\n",
    "    return Chem.MolFromSmiles(smiles) is not None"
   ]
  },
  {
   "cell_type": "code",
   "execution_count": 3,
   "id": "16da079b-398c-4dea-9413-f9d0cc900e73",
   "metadata": {},
   "outputs": [
    {
     "name": "stdout",
     "output_type": "stream",
     "text": [
      "\n",
      "General statistics:\n",
      "Total molecules in the database: 166 molecules\n"
     ]
    }
   ],
   "source": [
    "# Loading data\n",
    "df = pd.read_csv(\"DTB.csv\") \n",
    "df = df.dropna(subset=[\"SMILES\", \"RI\"])  \n",
    "df = df[df[\"SMILES\"].apply(is_valid_molecule)].copy() \n",
    "\n",
    "# Descriptors\n",
    "df[\"Descriptors\"] = df[\"SMILES\"].apply(compute_descriptors)\n",
    "desc_df = pd.DataFrame(df[\"Descriptors\"].tolist(), columns=all_descriptor_names)\n",
    "df = pd.concat([df.reset_index(drop=True), desc_df], axis=1)\n",
    "df.drop(columns=[\"Descriptors\"], inplace=True)\n",
    "\n",
    "print(f\"\\nGeneral statistics:\")\n",
    "print(f\"Total molecules in the database: {df.shape[0]} molecules\")"
   ]
  },
  {
   "cell_type": "code",
   "execution_count": 5,
   "id": "04d91d86-53f6-4ffb-b834-7b218b28855b",
   "metadata": {},
   "outputs": [],
   "source": [
    "def prediction(smiles_list, dtb_df, descriptor_names=None, n_iterations=500, k=140, model_type='Ridge'):\n",
    "    # Calculation of descriptors\n",
    "    inc_descs = [compute_descriptors(smi) for smi in smiles_list]\n",
    "    if descriptor_names is None:\n",
    "        descriptor_names = [col for col in all_descriptor_names if col in dtb_df.columns]\n",
    "    inc_df = pd.DataFrame(inc_descs, columns=descriptor_names)\n",
    "\n",
    "    # Check that the columns exist\n",
    "    missing_cols = [col for col in descriptor_names if col not in dtb_df.columns]\n",
    "    if missing_cols:\n",
    "        raise ValueError(f\"Columns missing from the database : {missing_cols}\")\n",
    "\n",
    "    # Filtering valid data\n",
    "    subset = dtb_df.dropna(subset=descriptor_names + ['RI']).copy()\n",
    "\n",
    "    # Cleaning problematic columns\n",
    "    X_df = subset[descriptor_names].replace([np.inf, -np.inf], np.nan)\n",
    "    X_df = X_df.dropna(axis=1)  \n",
    "    X_df = X_df.loc[:, X_df.std() > 0]  \n",
    "    descriptor_names = X_df.columns.tolist()\n",
    "    X = X_df.values\n",
    "    y = subset[\"RI\"].values\n",
    "\n",
    "    # Standardization\n",
    "    scaler = StandardScaler()\n",
    "    X_scaled = scaler.fit_transform(X)\n",
    "    inc_scaled = scaler.transform(inc_df[descriptor_names])  \n",
    "\n",
    "    # Selection of the best descriptors\n",
    "    selector = SelectKBest(score_func=f_regression, k=min(k, X_scaled.shape[1]))\n",
    "    X_selected = selector.fit_transform(X_scaled, y)\n",
    "    selected_mask = selector.get_support()\n",
    "    inc_selected = inc_scaled[:, selected_mask]\n",
    "\n",
    "    predictions_all = []\n",
    "    r2_cv_model = []\n",
    "    rel_error_model = []\n",
    "\n",
    "    for _ in range(n_iterations):\n",
    "        X_train, X_test, y_train, y_test = train_test_split(X_selected, y, test_size=0.2, shuffle=True)\n",
    "\n",
    "        if model_type == 'Linear':\n",
    "            model = LinearRegression()\n",
    "        elif model_type == 'Ridge':\n",
    "            model = Ridge(alpha=1.0)\n",
    "        elif model_type == 'PLS':\n",
    "            model = PLSRegression(n_components=min(4, k))\n",
    "        else:\n",
    "            raise ValueError(\"Model not supported : \" + model_type)\n",
    "\n",
    "        model.fit(X_train, y_train)\n",
    "\n",
    "        # Test prediction (20%) \n",
    "        y_pred = model.predict(X_test)\n",
    "        relative_error = np.mean(np.abs((y_test - y_pred) / y_pred)) * 100\n",
    "        rel_error_model.append(relative_error)\n",
    "\n",
    "        # Cross-validation\n",
    "        kf = KFold(n_splits=6, shuffle=True, random_state=42)\n",
    "        r2_cv = cross_val_score(model, X_selected, y, cv=kf, scoring='r2')\n",
    "        r2_cv_model.append(r2_cv.mean())\n",
    "\n",
    "        # Prediction on unknown molecules\n",
    "        preds = model.predict(inc_selected)\n",
    "        predictions_all.append(preds)\n",
    "\n",
    "    predictions_all = np.array(predictions_all)\n",
    "    mean_preds = predictions_all.mean(axis=0)\n",
    "    std_preds = predictions_all.std(axis=0)\n",
    "\n",
    "    # Model summary\n",
    "    print(f\"Model used : {model_type}\")\n",
    "    print(f\"Selected descriptors : {int(sum(selected_mask))}\")\n",
    "    print(f\"R² cross-validation (medium): {round(np.mean(r2_cv_model), 3)}\")\n",
    "    print(f\"Average relative error (%) on test (20%) : {round(np.mean(rel_error_model), 2)}\\n\")\n",
    "\n",
    "    # Prediction results\n",
    "    results = []\n",
    "    for i, smi in enumerate(smiles_list):\n",
    "        results.append({\n",
    "            \"SMILES\": smi,\n",
    "            \"RI predicts (moy)\": round(mean_preds[i], 2),\n",
    "           \"Standard deviation\": round(std_preds[i], 2)\n",
    "        })\n",
    "\n",
    "    return pd.DataFrame(results)"
   ]
  },
  {
   "cell_type": "code",
   "execution_count": 6,
   "id": "d633100f-88e1-41c8-9568-047c5bd1f6ea",
   "metadata": {},
   "outputs": [
    {
     "name": "stdout",
     "output_type": "stream",
     "text": [
      "Model used : Ridge\n",
      "Selected descriptors : 90\n",
      "R² cross-validation (medium): 0.982\n",
      "Average relative error (%) on test (20%) : 2.75\n",
      "\n",
      "      SMILES  RI predicts (moy)  Standard deviation\n",
      "0  CCCCCCCCC              925.2                8.01\n"
     ]
    }
   ],
   "source": [
    "# Prediction\n",
    "smiles_inconnus = ['CCCCCCCCC']\n",
    "resultats = prediction(smiles_inconnus, df, n_iterations=300, k=90, model_type=\"Ridge\")\n",
    "print(resultats)"
   ]
  }
 ],
 "metadata": {
  "kernelspec": {
   "display_name": "Python (rdkit-env)",
   "language": "python",
   "name": "rdkit-env"
  },
  "language_info": {
   "codemirror_mode": {
    "name": "ipython",
    "version": 3
   },
   "file_extension": ".py",
   "mimetype": "text/x-python",
   "name": "python",
   "nbconvert_exporter": "python",
   "pygments_lexer": "ipython3",
   "version": "3.9.23"
  }
 },
 "nbformat": 4,
 "nbformat_minor": 5
}
